{
  "nbformat": 4,
  "nbformat_minor": 0,
  "metadata": {
    "colab": {
      "name": "kata-add-cols.ipynb",
      "provenance": [],
      "authorship_tag": "ABX9TyNK/VyMe3/xRTtcS6t/LBZX",
      "include_colab_link": true
    },
    "kernelspec": {
      "name": "python3",
      "display_name": "Python 3"
    }
  },
  "cells": [
    {
      "cell_type": "markdown",
      "metadata": {
        "id": "view-in-github",
        "colab_type": "text"
      },
      "source": [
        "<a href=\"https://colab.research.google.com/github/aflores/samples/blob/master/kata_add_cols.ipynb\" target=\"_parent\"><img src=\"https://colab.research.google.com/assets/colab-badge.svg\" alt=\"Open In Colab\"/></a>"
      ]
    },
    {
      "cell_type": "markdown",
      "metadata": {
        "id": "2vnLespfGYoT",
        "colab_type": "text"
      },
      "source": [
        "A pandas kata to create new columns for a dataframe"
      ]
    },
    {
      "cell_type": "code",
      "metadata": {
        "id": "BZCI29PHGOAn",
        "colab_type": "code",
        "colab": {}
      },
      "source": [
        "import pandas as pd\n",
        "import numpy as np\n",
        "import re \n",
        "from matplotlib import pyplot as plt"
      ],
      "execution_count": 0,
      "outputs": []
    },
    {
      "cell_type": "code",
      "metadata": {
        "id": "Th-MnKtMGz5K",
        "colab_type": "code",
        "colab": {}
      },
      "source": [
        "# create a data frame\n",
        "df = pd.DataFrame({\n",
        "    \"name\": [\"aaa\",\"abb\",\"acc\",\"bbb\",\"bcc\",\"baa\",\"caa\",\"cbb\",\"ccc\",\"aab\",\"aac\",\"bba\",\"bbc\",\"cca\",\"ccb\"], \n",
        "    \"amount\":[10,-11,12,-13,14,-15,16,-17,18,-19,20,-21,22,-23,24]\n",
        "    })"
      ],
      "execution_count": 0,
      "outputs": []
    },
    {
      "cell_type": "code",
      "metadata": {
        "id": "fAt5s1GXHRGA",
        "colab_type": "code",
        "colab": {}
      },
      "source": [
        "df['cr'] = np.where(df['amount'] > 0, df['amount'],0)\n",
        "df['dr'] = np.where(df['amount'] < 0, df['amount'],0)"
      ],
      "execution_count": 0,
      "outputs": []
    },
    {
      "cell_type": "code",
      "metadata": {
        "id": "uI-Fmij8OGiE",
        "colab_type": "code",
        "colab": {}
      },
      "source": [
        "def lookup_cat(name):\n",
        "  if re.search(r\"aa\",name,re.I):\n",
        "    return \"aa\"\n",
        "  elif re.search(r\"bb\",name,re.I):\n",
        "    return \"bb\"\n",
        "  elif re.search(r\"cc\",name,re.I):\n",
        "    return \"cc\"\n",
        "  else:\n",
        "    return \"tbd\"  "
      ],
      "execution_count": 0,
      "outputs": []
    },
    {
      "cell_type": "code",
      "metadata": {
        "id": "Qin19JjEUB6f",
        "colab_type": "code",
        "colab": {}
      },
      "source": [
        "df['cat'] = df.apply(lambda r : lookup_cat(r['name']),axis=1)"
      ],
      "execution_count": 0,
      "outputs": []
    },
    {
      "cell_type": "code",
      "metadata": {
        "id": "82CgeSMmN9E3",
        "colab_type": "code",
        "colab": {
          "base_uri": "https://localhost:8080/",
          "height": 514
        },
        "outputId": "264e05f8-9444-44b9-e8b2-952b8e239e8a"
      },
      "source": [
        "df"
      ],
      "execution_count": 163,
      "outputs": [
        {
          "output_type": "execute_result",
          "data": {
            "text/html": [
              "<div>\n",
              "<style scoped>\n",
              "    .dataframe tbody tr th:only-of-type {\n",
              "        vertical-align: middle;\n",
              "    }\n",
              "\n",
              "    .dataframe tbody tr th {\n",
              "        vertical-align: top;\n",
              "    }\n",
              "\n",
              "    .dataframe thead th {\n",
              "        text-align: right;\n",
              "    }\n",
              "</style>\n",
              "<table border=\"1\" class=\"dataframe\">\n",
              "  <thead>\n",
              "    <tr style=\"text-align: right;\">\n",
              "      <th></th>\n",
              "      <th>name</th>\n",
              "      <th>amount</th>\n",
              "      <th>cr</th>\n",
              "      <th>dr</th>\n",
              "      <th>cat</th>\n",
              "    </tr>\n",
              "  </thead>\n",
              "  <tbody>\n",
              "    <tr>\n",
              "      <th>0</th>\n",
              "      <td>aaa</td>\n",
              "      <td>10</td>\n",
              "      <td>10</td>\n",
              "      <td>0</td>\n",
              "      <td>aa</td>\n",
              "    </tr>\n",
              "    <tr>\n",
              "      <th>1</th>\n",
              "      <td>abb</td>\n",
              "      <td>-11</td>\n",
              "      <td>0</td>\n",
              "      <td>-11</td>\n",
              "      <td>bb</td>\n",
              "    </tr>\n",
              "    <tr>\n",
              "      <th>2</th>\n",
              "      <td>acc</td>\n",
              "      <td>12</td>\n",
              "      <td>12</td>\n",
              "      <td>0</td>\n",
              "      <td>cc</td>\n",
              "    </tr>\n",
              "    <tr>\n",
              "      <th>3</th>\n",
              "      <td>bbb</td>\n",
              "      <td>-13</td>\n",
              "      <td>0</td>\n",
              "      <td>-13</td>\n",
              "      <td>bb</td>\n",
              "    </tr>\n",
              "    <tr>\n",
              "      <th>4</th>\n",
              "      <td>bcc</td>\n",
              "      <td>14</td>\n",
              "      <td>14</td>\n",
              "      <td>0</td>\n",
              "      <td>cc</td>\n",
              "    </tr>\n",
              "    <tr>\n",
              "      <th>5</th>\n",
              "      <td>baa</td>\n",
              "      <td>-15</td>\n",
              "      <td>0</td>\n",
              "      <td>-15</td>\n",
              "      <td>aa</td>\n",
              "    </tr>\n",
              "    <tr>\n",
              "      <th>6</th>\n",
              "      <td>caa</td>\n",
              "      <td>16</td>\n",
              "      <td>16</td>\n",
              "      <td>0</td>\n",
              "      <td>aa</td>\n",
              "    </tr>\n",
              "    <tr>\n",
              "      <th>7</th>\n",
              "      <td>cbb</td>\n",
              "      <td>-17</td>\n",
              "      <td>0</td>\n",
              "      <td>-17</td>\n",
              "      <td>bb</td>\n",
              "    </tr>\n",
              "    <tr>\n",
              "      <th>8</th>\n",
              "      <td>ccc</td>\n",
              "      <td>18</td>\n",
              "      <td>18</td>\n",
              "      <td>0</td>\n",
              "      <td>cc</td>\n",
              "    </tr>\n",
              "    <tr>\n",
              "      <th>9</th>\n",
              "      <td>aab</td>\n",
              "      <td>-19</td>\n",
              "      <td>0</td>\n",
              "      <td>-19</td>\n",
              "      <td>aa</td>\n",
              "    </tr>\n",
              "    <tr>\n",
              "      <th>10</th>\n",
              "      <td>aac</td>\n",
              "      <td>20</td>\n",
              "      <td>20</td>\n",
              "      <td>0</td>\n",
              "      <td>aa</td>\n",
              "    </tr>\n",
              "    <tr>\n",
              "      <th>11</th>\n",
              "      <td>bba</td>\n",
              "      <td>-21</td>\n",
              "      <td>0</td>\n",
              "      <td>-21</td>\n",
              "      <td>bb</td>\n",
              "    </tr>\n",
              "    <tr>\n",
              "      <th>12</th>\n",
              "      <td>bbc</td>\n",
              "      <td>22</td>\n",
              "      <td>22</td>\n",
              "      <td>0</td>\n",
              "      <td>bb</td>\n",
              "    </tr>\n",
              "    <tr>\n",
              "      <th>13</th>\n",
              "      <td>cca</td>\n",
              "      <td>-23</td>\n",
              "      <td>0</td>\n",
              "      <td>-23</td>\n",
              "      <td>cc</td>\n",
              "    </tr>\n",
              "    <tr>\n",
              "      <th>14</th>\n",
              "      <td>ccb</td>\n",
              "      <td>24</td>\n",
              "      <td>24</td>\n",
              "      <td>0</td>\n",
              "      <td>cc</td>\n",
              "    </tr>\n",
              "  </tbody>\n",
              "</table>\n",
              "</div>"
            ],
            "text/plain": [
              "   name  amount  cr  dr cat\n",
              "0   aaa      10  10   0  aa\n",
              "1   abb     -11   0 -11  bb\n",
              "2   acc      12  12   0  cc\n",
              "3   bbb     -13   0 -13  bb\n",
              "4   bcc      14  14   0  cc\n",
              "5   baa     -15   0 -15  aa\n",
              "6   caa      16  16   0  aa\n",
              "7   cbb     -17   0 -17  bb\n",
              "8   ccc      18  18   0  cc\n",
              "9   aab     -19   0 -19  aa\n",
              "10  aac      20  20   0  aa\n",
              "11  bba     -21   0 -21  bb\n",
              "12  bbc      22  22   0  bb\n",
              "13  cca     -23   0 -23  cc\n",
              "14  ccb      24  24   0  cc"
            ]
          },
          "metadata": {
            "tags": []
          },
          "execution_count": 163
        }
      ]
    },
    {
      "cell_type": "code",
      "metadata": {
        "id": "nWjtyDQnuXtT",
        "colab_type": "code",
        "colab": {}
      },
      "source": [
        "cat_cr = df.groupby(by=\"cat\").sum()[\"cr\"]\n",
        "cat_dr = (-1)*df.groupby(by=\"cat\").sum()[\"dr\"]"
      ],
      "execution_count": 0,
      "outputs": []
    },
    {
      "cell_type": "code",
      "metadata": {
        "id": "F8TKLhhnTJER",
        "colab_type": "code",
        "colab": {
          "base_uri": "https://localhost:8080/",
          "height": 297
        },
        "outputId": "cbfa35ff-143b-4a9a-ff88-a2b6a611d28e"
      },
      "source": [
        "labels= df['cat'].unique()\n",
        "\n",
        "x = np.arange(len(labels))  \n",
        "width = 0.35  # the width of the bars\n",
        "\n",
        "fig, ax = plt.subplots()\n",
        "rects1 = ax.bar(x - width/2, cat_cr, width, label='Cr')\n",
        "rects2 = ax.bar(x + width/2, cat_dr, width, label='Dr')\n",
        "\n",
        "# Add some text for labels, title and custom x-axis tick labels, etc.\n",
        "ax.set_ylabel('Amounts')\n",
        "ax.set_title('Amounts by category and type')\n",
        "ax.set_xticks(x)\n",
        "ax.set_xticklabels(labels)\n",
        "ax.legend()\n",
        "\n",
        "def autolabel(rects):\n",
        "    \"\"\"Attach a text label above each bar in *rects*, displaying its height.\"\"\"\n",
        "    for rect in rects:\n",
        "        height = rect.get_height()\n",
        "        ax.annotate('{}'.format(height),\n",
        "                    xy=(rect.get_x() + rect.get_width() / 2, height),\n",
        "                    xytext=(0, 2),  # 2 points vertical offset\n",
        "                    textcoords=\"offset points\",\n",
        "                    ha='center', va='bottom')\n",
        "              \n",
        "autolabel(rects1)\n",
        "autolabel(rects2)\n",
        "\n",
        "fig.tight_layout()\n",
        "\n",
        "plt.show()"
      ],
      "execution_count": 165,
      "outputs": [
        {
          "output_type": "display_data",
          "data": {
            "image/png": "[encoded data removed]",
            "text/plain": [
              "<Figure size 432x288 with 1 Axes>"
            ]
          },
          "metadata": {
            "tags": [],
            "needs_background": "light"
          }
        }
      ]
    },
    {
      "cell_type": "code",
      "metadata": {
        "id": "b2cK93d0ZrqJ",
        "colab_type": "code",
        "colab": {}
      },
      "source": [
        ""
      ],
      "execution_count": 0,
      "outputs": []
    }
  ]
}