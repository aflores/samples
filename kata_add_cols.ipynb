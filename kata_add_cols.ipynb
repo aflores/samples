{
  "nbformat": 4,
  "nbformat_minor": 0,
  "metadata": {
    "colab": {
      "name": "kata-add-cols.ipynb",
      "provenance": [],
      "authorship_tag": "ABX9TyPof8qZZTF5UM9iw7h6o2F8",
      "include_colab_link": true
    },
    "kernelspec": {
      "name": "python3",
      "display_name": "Python 3"
    }
  },
  "cells": [
    {
      "cell_type": "markdown",
      "metadata": {
        "id": "view-in-github",
        "colab_type": "text"
      },
      "source": [
        "<a href=\"https://colab.research.google.com/github/aflores/samples/blob/master/kata_add_cols.ipynb\" target=\"_parent\"><img src=\"https://colab.research.google.com/assets/colab-badge.svg\" alt=\"Open In Colab\"/></a>"
      ]
    },
    {
      "cell_type": "markdown",
      "metadata": {
        "id": "2vnLespfGYoT",
        "colab_type": "text"
      },
      "source": [
        "A pandas kata to create new columns for a dataframe"
      ]
    },
    {
      "cell_type": "code",
      "metadata": {
        "id": "BZCI29PHGOAn",
        "colab_type": "code",
        "colab": {}
      },
      "source": [
        "import pandas as pd\n",
        "import numpy as np\n",
        "import re \n",
        "from matplotlib import pyplot as plt"
      ],
      "execution_count": 0,
      "outputs": []
    },
    {
      "cell_type": "code",
      "metadata": {
        "id": "Th-MnKtMGz5K",
        "colab_type": "code",
        "colab": {}
      },
      "source": [
        "# create a data frame\n",
        "df = pd.DataFrame({\"name\": [\"aaa\",\"abb\",\"acc\",\"bbb\",\"bcc\",\"baa\",\"caa\",\"cbb\",\"ccc\",\"ddf\"], \"amount\":[10,-11,12,-13,14,-15,16,-17,18,0]})"
      ],
      "execution_count": 0,
      "outputs": []
    },
    {
      "cell_type": "code",
      "metadata": {
        "id": "fAt5s1GXHRGA",
        "colab_type": "code",
        "colab": {}
      },
      "source": [
        "df['cr'] = np.where(df['amount'] > 0, df['amount'],0)\n",
        "df['dr'] = np.where(df['amount'] < 0, df['amount'],0)"
      ],
      "execution_count": 0,
      "outputs": []
    },
    {
      "cell_type": "code",
      "metadata": {
        "id": "uI-Fmij8OGiE",
        "colab_type": "code",
        "colab": {}
      },
      "source": [
        "def lookup_cat(name):\n",
        "  if re.search(r\"aa\",name,re.I):\n",
        "    return \"aa\"\n",
        "  elif re.search(r\"bb\",name,re.I):\n",
        "    return \"bb\"\n",
        "  elif re.search(r\"cc\",name,re.I):\n",
        "    return \"cc\"\n",
        "  else:\n",
        "    return \"tbd\"  "
      ],
      "execution_count": 0,
      "outputs": []
    },
    {
      "cell_type": "code",
      "metadata": {
        "id": "Qin19JjEUB6f",
        "colab_type": "code",
        "colab": {}
      },
      "source": [
        "df['cat'] = df.apply(lambda r : lookup_cat(r['name']),axis=1)"
      ],
      "execution_count": 0,
      "outputs": []
    },
    {
      "cell_type": "code",
      "metadata": {
        "id": "82CgeSMmN9E3",
        "colab_type": "code",
        "colab": {
          "base_uri": "https://localhost:8080/",
          "height": 359
        },
        "outputId": "1b68efc3-0b21-44ef-c52d-392bc4ee56ec"
      },
      "source": [
        "df.head(10)"
      ],
      "execution_count": 50,
      "outputs": [
        {
          "output_type": "execute_result",
          "data": {
            "text/html": [
              "<div>\n",
              "<style scoped>\n",
              "    .dataframe tbody tr th:only-of-type {\n",
              "        vertical-align: middle;\n",
              "    }\n",
              "\n",
              "    .dataframe tbody tr th {\n",
              "        vertical-align: top;\n",
              "    }\n",
              "\n",
              "    .dataframe thead th {\n",
              "        text-align: right;\n",
              "    }\n",
              "</style>\n",
              "<table border=\"1\" class=\"dataframe\">\n",
              "  <thead>\n",
              "    <tr style=\"text-align: right;\">\n",
              "      <th></th>\n",
              "      <th>name</th>\n",
              "      <th>amount</th>\n",
              "      <th>cr</th>\n",
              "      <th>dr</th>\n",
              "      <th>cat</th>\n",
              "    </tr>\n",
              "  </thead>\n",
              "  <tbody>\n",
              "    <tr>\n",
              "      <th>0</th>\n",
              "      <td>aaa</td>\n",
              "      <td>10</td>\n",
              "      <td>10</td>\n",
              "      <td>0</td>\n",
              "      <td>aa</td>\n",
              "    </tr>\n",
              "    <tr>\n",
              "      <th>1</th>\n",
              "      <td>abb</td>\n",
              "      <td>-11</td>\n",
              "      <td>0</td>\n",
              "      <td>-11</td>\n",
              "      <td>bb</td>\n",
              "    </tr>\n",
              "    <tr>\n",
              "      <th>2</th>\n",
              "      <td>acc</td>\n",
              "      <td>12</td>\n",
              "      <td>12</td>\n",
              "      <td>0</td>\n",
              "      <td>cc</td>\n",
              "    </tr>\n",
              "    <tr>\n",
              "      <th>3</th>\n",
              "      <td>bbb</td>\n",
              "      <td>-13</td>\n",
              "      <td>0</td>\n",
              "      <td>-13</td>\n",
              "      <td>bb</td>\n",
              "    </tr>\n",
              "    <tr>\n",
              "      <th>4</th>\n",
              "      <td>bcc</td>\n",
              "      <td>14</td>\n",
              "      <td>14</td>\n",
              "      <td>0</td>\n",
              "      <td>cc</td>\n",
              "    </tr>\n",
              "    <tr>\n",
              "      <th>5</th>\n",
              "      <td>baa</td>\n",
              "      <td>-15</td>\n",
              "      <td>0</td>\n",
              "      <td>-15</td>\n",
              "      <td>aa</td>\n",
              "    </tr>\n",
              "    <tr>\n",
              "      <th>6</th>\n",
              "      <td>caa</td>\n",
              "      <td>16</td>\n",
              "      <td>16</td>\n",
              "      <td>0</td>\n",
              "      <td>aa</td>\n",
              "    </tr>\n",
              "    <tr>\n",
              "      <th>7</th>\n",
              "      <td>cbb</td>\n",
              "      <td>-17</td>\n",
              "      <td>0</td>\n",
              "      <td>-17</td>\n",
              "      <td>bb</td>\n",
              "    </tr>\n",
              "    <tr>\n",
              "      <th>8</th>\n",
              "      <td>ccc</td>\n",
              "      <td>18</td>\n",
              "      <td>18</td>\n",
              "      <td>0</td>\n",
              "      <td>cc</td>\n",
              "    </tr>\n",
              "    <tr>\n",
              "      <th>9</th>\n",
              "      <td>ddf</td>\n",
              "      <td>0</td>\n",
              "      <td>0</td>\n",
              "      <td>0</td>\n",
              "      <td>tbd</td>\n",
              "    </tr>\n",
              "  </tbody>\n",
              "</table>\n",
              "</div>"
            ],
            "text/plain": [
              "  name  amount  cr  dr  cat\n",
              "0  aaa      10  10   0   aa\n",
              "1  abb     -11   0 -11   bb\n",
              "2  acc      12  12   0   cc\n",
              "3  bbb     -13   0 -13   bb\n",
              "4  bcc      14  14   0   cc\n",
              "5  baa     -15   0 -15   aa\n",
              "6  caa      16  16   0   aa\n",
              "7  cbb     -17   0 -17   bb\n",
              "8  ccc      18  18   0   cc\n",
              "9  ddf       0   0   0  tbd"
            ]
          },
          "metadata": {
            "tags": []
          },
          "execution_count": 50
        }
      ]
    },
    {
      "cell_type": "code",
      "metadata": {
        "id": "F8TKLhhnTJER",
        "colab_type": "code",
        "colab": {
          "base_uri": "https://localhost:8080/",
          "height": 282
        },
        "outputId": "6d2ca5c7-5e0b-46e8-a972-2fb456adc375"
      },
      "source": [
        "plt.plot( df['cr'])\n",
        "plt.plot( df['dr'])\n",
        "plt.plot( df['amount'])"
      ],
      "execution_count": 59,
      "outputs": [
        {
          "output_type": "execute_result",
          "data": {
            "text/plain": [
              "[<matplotlib.lines.Line2D at 0x7fd6c2086cf8>]"
            ]
          },
          "metadata": {
            "tags": []
          },
          "execution_count": 59
        },
        {
          "output_type": "display_data",
          "data": {
            "image/png": "[encoded data removed]",
            "text/plain": [
              "<Figure size 432x288 with 1 Axes>"
            ]
          },
          "metadata": {
            "tags": [],
            "needs_background": "light"
          }
        }
      ]
    },
    {
      "cell_type": "code",
      "metadata": {
        "id": "b2cK93d0ZrqJ",
        "colab_type": "code",
        "colab": {}
      },
      "source": [
        ""
      ],
      "execution_count": 0,
      "outputs": []
    }
  ]
}