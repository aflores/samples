{
  "nbformat": 4,
  "nbformat_minor": 0,
  "metadata": {
    "colab": {
      "name": "Untitled4.ipynb",
      "provenance": [],
      "authorship_tag": "ABX9TyNrVX2xPb8D4Mq//3m7Uibh",
      "include_colab_link": true
    },
    "kernelspec": {
      "name": "python3",
      "display_name": "Python 3"
    }
  },
  "cells": [
    {
      "cell_type": "markdown",
      "metadata": {
        "id": "view-in-github",
        "colab_type": "text"
      },
      "source": [
        "<a href=\"https://colab.research.google.com/github/aflores/samples/blob/master/no-shows-sklearn-and-tf.ipynb\" target=\"_parent\"><img src=\"https://colab.research.google.com/assets/colab-badge.svg\" alt=\"Open In Colab\"/></a>"
      ]
    },
    {
      "cell_type": "code",
      "metadata": {
        "id": "cBjx8oouXln5",
        "colab_type": "code",
        "colab": {}
      },
      "source": [
        "import numpy as np\n",
        "import pandas as pd\n",
        "import matplotlib.pyplot as plt\n",
        "from sklearn.preprocessing import LabelEncoder"
      ],
      "execution_count": 0,
      "outputs": []
    },
    {
      "cell_type": "code",
      "metadata": {
        "id": "w_aWGBrCXrMS",
        "colab_type": "code",
        "colab": {
          "base_uri": "https://localhost:8080/",
          "height": 272
        },
        "outputId": "99b395ad-3b14-4fe4-f7ce-edb049955d48"
      },
      "source": [
        "data_path = 'https://hatchboard.com/no-shows.txt'\n",
        "df = pd.read_csv(data_path) \n",
        "df.dtypes"
      ],
      "execution_count": 2,
      "outputs": [
        {
          "output_type": "execute_result",
          "data": {
            "text/plain": [
              "PatientId         float64\n",
              "AppointmentID       int64\n",
              "Gender             object\n",
              "ScheduledDay       object\n",
              "AppointmentDay     object\n",
              "Age                 int64\n",
              "Neighbourhood      object\n",
              "Scholarship         int64\n",
              "Hipertension        int64\n",
              "Diabetes            int64\n",
              "Alcoholism          int64\n",
              "Handcap             int64\n",
              "SMS_received        int64\n",
              "No-show            object\n",
              "dtype: object"
            ]
          },
          "metadata": {
            "tags": []
          },
          "execution_count": 2
        }
      ]
    },
    {
      "cell_type": "code",
      "metadata": {
        "id": "eb6SYpllX41x",
        "colab_type": "code",
        "colab": {
          "base_uri": "https://localhost:8080/",
          "height": 544
        },
        "outputId": "b336be51-23fa-4ef9-ee07-dcdcc5502c36"
      },
      "source": [
        "# from the description, looks like most data is categorical so let's see what we have in the objects\n",
        "for col in df.columns:\n",
        "    if (df[col].dtype == 'object'):\n",
        "        print(col, df[col].unique())  "
      ],
      "execution_count": 3,
      "outputs": [
        {
          "output_type": "stream",
          "text": [
            "Gender ['F' 'M']\n",
            "ScheduledDay ['2016-04-29T18:38:08Z' '2016-04-29T16:08:27Z' '2016-04-29T16:19:04Z' ...\n",
            " '2016-04-27T16:03:52Z' '2016-04-27T15:09:23Z' '2016-04-27T13:30:56Z']\n",
            "AppointmentDay ['2016-04-29T00:00:00Z' '2016-05-03T00:00:00Z' '2016-05-10T00:00:00Z'\n",
            " '2016-05-17T00:00:00Z' '2016-05-24T00:00:00Z' '2016-05-31T00:00:00Z'\n",
            " '2016-05-02T00:00:00Z' '2016-05-30T00:00:00Z' '2016-05-16T00:00:00Z'\n",
            " '2016-05-04T00:00:00Z' '2016-05-19T00:00:00Z' '2016-05-12T00:00:00Z'\n",
            " '2016-05-06T00:00:00Z' '2016-05-20T00:00:00Z' '2016-05-05T00:00:00Z'\n",
            " '2016-05-13T00:00:00Z' '2016-05-09T00:00:00Z' '2016-05-25T00:00:00Z'\n",
            " '2016-05-11T00:00:00Z' '2016-05-18T00:00:00Z' '2016-05-14T00:00:00Z'\n",
            " '2016-06-02T00:00:00Z' '2016-06-03T00:00:00Z' '2016-06-06T00:00:00Z'\n",
            " '2016-06-07T00:00:00Z' '2016-06-01T00:00:00Z' '2016-06-08T00:00:00Z']\n",
            "Neighbourhood ['JARDIM DA PENHA' 'MATA DA PRAIA' 'PONTAL DE CAMBURI' 'REPÚBLICA'\n",
            " 'GOIABEIRAS' 'ANDORINHAS' 'CONQUISTA' 'NOVA PALESTINA' 'DA PENHA'\n",
            " 'TABUAZEIRO' 'BENTO FERREIRA' 'SÃO PEDRO' 'SANTA MARTHA' 'SÃO CRISTÓVÃO'\n",
            " 'MARUÍPE' 'GRANDE VITÓRIA' 'SÃO BENEDITO' 'ILHA DAS CAIEIRAS'\n",
            " 'SANTO ANDRÉ' 'SOLON BORGES' 'BONFIM' 'JARDIM CAMBURI' 'MARIA ORTIZ'\n",
            " 'JABOUR' 'ANTÔNIO HONÓRIO' 'RESISTÊNCIA' 'ILHA DE SANTA MARIA'\n",
            " 'JUCUTUQUARA' 'MONTE BELO' 'MÁRIO CYPRESTE' 'SANTO ANTÔNIO' 'BELA VISTA'\n",
            " 'PRAIA DO SUÁ' 'SANTA HELENA' 'ITARARÉ' 'INHANGUETÁ' 'UNIVERSITÁRIO'\n",
            " 'SÃO JOSÉ' 'REDENÇÃO' 'SANTA CLARA' 'CENTRO' 'PARQUE MOSCOSO'\n",
            " 'DO MOSCOSO' 'SANTOS DUMONT' 'CARATOÍRA' 'ARIOVALDO FAVALESSA'\n",
            " 'ILHA DO FRADE' 'GURIGICA' 'JOANA D´ARC' 'CONSOLAÇÃO' 'PRAIA DO CANTO'\n",
            " 'BOA VISTA' 'MORADA DE CAMBURI' 'SANTA LUÍZA' 'SANTA LÚCIA'\n",
            " 'BARRO VERMELHO' 'ESTRELINHA' 'FORTE SÃO JOÃO' 'FONTE GRANDE'\n",
            " 'ENSEADA DO SUÁ' 'SANTOS REIS' 'PIEDADE' 'JESUS DE NAZARETH'\n",
            " 'SANTA TEREZA' 'CRUZAMENTO' 'ILHA DO PRÍNCIPE' 'ROMÃO' 'COMDUSA'\n",
            " 'SANTA CECÍLIA' 'VILA RUBIM' 'DE LOURDES' 'DO QUADRO' 'DO CABRAL' 'HORTO'\n",
            " 'SEGURANÇA DO LAR' 'ILHA DO BOI' 'FRADINHOS' 'NAZARETH' 'AEROPORTO'\n",
            " 'ILHAS OCEÂNICAS DE TRINDADE' 'PARQUE INDUSTRIAL']\n",
            "No-show ['No' 'Yes']\n"
          ],
          "name": "stdout"
        }
      ]
    },
    {
      "cell_type": "code",
      "metadata": {
        "id": "71UbhU_0YcTC",
        "colab_type": "code",
        "colab": {
          "base_uri": "https://localhost:8080/",
          "height": 34
        },
        "outputId": "f61082b5-e677-4d7b-a7a1-e8e2e9c631b5"
      },
      "source": [
        "# encode Neighbourhood\n",
        "le = LabelEncoder()\n",
        "\n",
        "t = df['Neighbourhood'].unique().astype(str)\n",
        "df['Neighbourhood'] = le.fit_transform(df['Neighbourhood'])\n",
        "le.classes_\n",
        "le.transform(t)\n",
        "\n",
        "t = df['Gender'].unique().astype(str)\n",
        "df['Gender'] = le.fit_transform(df['Gender'])\n",
        "le.classes_\n",
        "le.transform(t)\n",
        "\n",
        "t = df['No-show'].unique().astype(str)\n",
        "df['No-show'] = le.fit_transform(df['No-show'])\n",
        "le.classes_\n",
        "le.transform(t)"
      ],
      "execution_count": 4,
      "outputs": [
        {
          "output_type": "execute_result",
          "data": {
            "text/plain": [
              "array([0, 1])"
            ]
          },
          "metadata": {
            "tags": []
          },
          "execution_count": 4
        }
      ]
    },
    {
      "cell_type": "code",
      "metadata": {
        "id": "O-2mG2FwYnDn",
        "colab_type": "code",
        "colab": {}
      },
      "source": [
        "# separate labels 'X' from features 'y'\n",
        "X = df.iloc[:, np.r_[2,5,6,7,8,9,10,11,12]] # skip PatientId and AppointmentID\n",
        "y = df.iloc[:, np.r_[13]]"
      ],
      "execution_count": 0,
      "outputs": []
    },
    {
      "cell_type": "code",
      "metadata": {
        "id": "P-JCh4yZYw8G",
        "colab_type": "code",
        "colab": {}
      },
      "source": [
        "from sklearn.model_selection import train_test_split\n",
        "X_train, X_test, y_train, y_test = train_test_split(X, y, test_size=0.20, stratify=y, random_state=1)"
      ],
      "execution_count": 0,
      "outputs": []
    },
    {
      "cell_type": "code",
      "metadata": {
        "id": "FP7MHL7XY9cw",
        "colab_type": "code",
        "colab": {
          "base_uri": "https://localhost:8080/",
          "height": 34
        },
        "outputId": "b32045f5-62cb-4ad7-da89-9ca835e05843"
      },
      "source": [
        "import tensorflow as tf\n",
        "print(tf.__version__)"
      ],
      "execution_count": 7,
      "outputs": [
        {
          "output_type": "stream",
          "text": [
            "2.2.0-rc2\n"
          ],
          "name": "stdout"
        }
      ]
    },
    {
      "cell_type": "code",
      "metadata": {
        "id": "b437zCwFZFie",
        "colab_type": "code",
        "colab": {}
      },
      "source": [
        "CATEGORICAL_COLUMNS = ['Gender','Neighbourhood','Scholarship','Hipertension','Diabetes','Alcoholism','Handcap','SMS_received']\n",
        "NUMERIC_COLUMNS=['Age']\n",
        "\n",
        "fc=tf.feature_column\n",
        "\n",
        "feature_columns = []\n",
        "\n",
        "feature_columns.append(tf.feature_column.numeric_column('Age',dtype=tf.float32))\n",
        "\n",
        "for feat_col in CATEGORICAL_COLUMNS:\n",
        "    feature_columns.append(tf.feature_column.numeric_column(feat_col,dtype=tf.int32))\n",
        "  "
      ],
      "execution_count": 0,
      "outputs": []
    },
    {
      "cell_type": "code",
      "metadata": {
        "id": "PHnucDAHZJTI",
        "colab_type": "code",
        "colab": {}
      },
      "source": [
        "NUM_EXAMPLES = 200\n",
        "def make_input_fn(X, y, n_epochs=None, shuffle=True):\n",
        "  def input_fn():\n",
        "    dataset = tf.data.Dataset.from_tensor_slices((dict(X),y))\n",
        "    if shuffle:\n",
        "        dataset = dataset.shuffle(NUM_EXAMPLES)\n",
        "    dataset = dataset.repeat(n_epochs)\n",
        "    dataset = dataset.batch(NUM_EXAMPLES)\n",
        "    return dataset\n",
        "  return input_fn"
      ],
      "execution_count": 0,
      "outputs": []
    },
    {
      "cell_type": "code",
      "metadata": {
        "id": "xFs4q28sZMxi",
        "colab_type": "code",
        "colab": {}
      },
      "source": [
        "train_input_fn = make_input_fn(X_train, y_train)\n",
        "eval_input_fn = make_input_fn(X_test, y_test, shuffle=False, n_epochs=1)"
      ],
      "execution_count": 0,
      "outputs": []
    },
    {
      "cell_type": "code",
      "metadata": {
        "id": "EuOPL7rklLlG",
        "colab_type": "code",
        "colab": {
          "base_uri": "https://localhost:8080/",
          "height": 34
        },
        "outputId": "6d4e249c-e735-40ba-b47d-680ff82c4f9f"
      },
      "source": [
        "!pip install tensorboardcolab\n"
      ],
      "execution_count": 15,
      "outputs": [
        {
          "output_type": "stream",
          "text": [
            "Requirement already satisfied: tensorboardcolab in /usr/local/lib/python3.6/dist-packages (0.0.22)\n"
          ],
          "name": "stdout"
        }
      ]
    },
    {
      "cell_type": "code",
      "metadata": {
        "id": "KfUjqla_lkxX",
        "colab_type": "code",
        "colab": {
          "base_uri": "https://localhost:8080/",
          "height": 181
        },
        "outputId": "60e5c65b-a16a-4b58-de78-db351f32d12f"
      },
      "source": [
        "\n",
        "tbc=TensorBoardColab"
      ],
      "execution_count": 17,
      "outputs": [
        {
          "output_type": "error",
          "ename": "NameError",
          "evalue": "ignored",
          "traceback": [
            "\u001b[0;31m---------------------------------------------------------------------------\u001b[0m",
            "\u001b[0;31mNameError\u001b[0m                                 Traceback (most recent call last)",
            "\u001b[0;32m<ipython-input-17-f682864ed0b7>\u001b[0m in \u001b[0;36m<module>\u001b[0;34m()\u001b[0m\n\u001b[1;32m      1\u001b[0m \u001b[0;34m\u001b[0m\u001b[0m\n\u001b[0;32m----> 2\u001b[0;31m \u001b[0mtbc\u001b[0m\u001b[0;34m=\u001b[0m\u001b[0mTensorBoardColab\u001b[0m\u001b[0;34m\u001b[0m\u001b[0;34m\u001b[0m\u001b[0m\n\u001b[0m",
            "\u001b[0;31mNameError\u001b[0m: name 'TensorBoardColab' is not defined"
          ]
        }
      ]
    },
    {
      "cell_type": "code",
      "metadata": {
        "id": "kARMau2fZQId",
        "colab_type": "code",
        "colab": {
          "base_uri": "https://localhost:8080/",
          "height": 530
        },
        "outputId": "9e76282c-1279-47ac-c1fb-594ea81345f2"
      },
      "source": [
        "%%time\n",
        "linear_est = tf.estimator.LinearClassifier(feature_columns)\n",
        "linear_est.train(train_input_fn, max_steps=300)"
      ],
      "execution_count": 15,
      "outputs": [
        {
          "output_type": "stream",
          "text": [
            "INFO:tensorflow:Using default config.\n",
            "WARNING:tensorflow:Using temporary folder as model directory: /tmp/tmpk_v_3c97\n",
            "INFO:tensorflow:Using config: {'_model_dir': '/tmp/tmpk_v_3c97', '_tf_random_seed': None, '_save_summary_steps': 100, '_save_checkpoints_steps': None, '_save_checkpoints_secs': 600, '_session_config': allow_soft_placement: true\n",
            "graph_options {\n",
            "  rewrite_options {\n",
            "    meta_optimizer_iterations: ONE\n",
            "  }\n",
            "}\n",
            ", '_keep_checkpoint_max': 5, '_keep_checkpoint_every_n_hours': 10000, '_log_step_count_steps': 100, '_train_distribute': None, '_device_fn': None, '_protocol': None, '_eval_distribute': None, '_experimental_distribute': None, '_experimental_max_worker_delay_secs': None, '_session_creation_timeout_secs': 7200, '_service': None, '_cluster_spec': ClusterSpec({}), '_task_type': 'worker', '_task_id': 0, '_global_id_in_cluster': 0, '_master': '', '_evaluation_master': '', '_is_chief': True, '_num_ps_replicas': 0, '_num_worker_replicas': 1}\n",
            "INFO:tensorflow:Calling model_fn.\n",
            "INFO:tensorflow:Done calling model_fn.\n",
            "INFO:tensorflow:Create CheckpointSaverHook.\n",
            "INFO:tensorflow:Graph was finalized.\n",
            "INFO:tensorflow:Running local_init_op.\n",
            "INFO:tensorflow:Done running local_init_op.\n",
            "INFO:tensorflow:Calling checkpoint listeners before saving checkpoint 0...\n",
            "INFO:tensorflow:Saving checkpoints for 0 into /tmp/tmpk_v_3c97/model.ckpt.\n",
            "INFO:tensorflow:Calling checkpoint listeners after saving checkpoint 0...\n",
            "INFO:tensorflow:loss = 0.6931474, step = 0\n",
            "INFO:tensorflow:global_step/sec: 393.793\n",
            "INFO:tensorflow:loss = 0.46856558, step = 100 (0.257 sec)\n",
            "INFO:tensorflow:global_step/sec: 607.357\n",
            "INFO:tensorflow:loss = 0.5670153, step = 200 (0.165 sec)\n",
            "INFO:tensorflow:Calling checkpoint listeners before saving checkpoint 300...\n",
            "INFO:tensorflow:Saving checkpoints for 300 into /tmp/tmpk_v_3c97/model.ckpt.\n",
            "INFO:tensorflow:Calling checkpoint listeners after saving checkpoint 300...\n",
            "INFO:tensorflow:Loss for final step: 0.5252896.\n",
            "CPU times: user 3.61 s, sys: 182 ms, total: 3.79 s\n",
            "Wall time: 3.7 s\n"
          ],
          "name": "stdout"
        }
      ]
    },
    {
      "cell_type": "code",
      "metadata": {
        "id": "enuVy5XMZTw3",
        "colab_type": "code",
        "colab": {
          "base_uri": "https://localhost:8080/",
          "height": 462
        },
        "outputId": "42e6bfea-bbcb-455a-e27f-6f6edf6112ed"
      },
      "source": [
        "%%time\n",
        "result = linear_est.evaluate(eval_input_fn)\n",
        "#clear_output()\n",
        "print(pd.Series(result))"
      ],
      "execution_count": 14,
      "outputs": [
        {
          "output_type": "stream",
          "text": [
            "INFO:tensorflow:Calling model_fn.\n",
            "INFO:tensorflow:Done calling model_fn.\n",
            "INFO:tensorflow:Starting evaluation at 2020-04-12T20:36:31Z\n",
            "INFO:tensorflow:Graph was finalized.\n",
            "INFO:tensorflow:Restoring parameters from /tmp/tmpy69qfb4p/model.ckpt-100\n",
            "INFO:tensorflow:Running local_init_op.\n",
            "INFO:tensorflow:Done running local_init_op.\n",
            "INFO:tensorflow:Inference Time : 0.88071s\n",
            "INFO:tensorflow:Finished evaluation at 2020-04-12-20:36:32\n",
            "INFO:tensorflow:Saving dict for global step 100: accuracy = 0.7980639, accuracy_baseline = 0.7980639, auc = 0.55435884, auc_precision_recall = 0.2283003, average_loss = 0.57460165, global_step = 100, label/mean = 0.20193613, loss = 0.57407975, precision = 0.5, prediction/mean = 0.10898576, recall = 0.00022401434\n",
            "INFO:tensorflow:Saving 'checkpoint_path' summary for global step 100: /tmp/tmpy69qfb4p/model.ckpt-100\n",
            "accuracy                  0.798064\n",
            "accuracy_baseline         0.798064\n",
            "auc                       0.554359\n",
            "auc_precision_recall      0.228300\n",
            "average_loss              0.574602\n",
            "label/mean                0.201936\n",
            "loss                      0.574080\n",
            "precision                 0.500000\n",
            "prediction/mean           0.108986\n",
            "recall                    0.000224\n",
            "global_step             100.000000\n",
            "dtype: float64\n",
            "CPU times: user 2.03 s, sys: 47.7 ms, total: 2.07 s\n",
            "Wall time: 1.97 s\n"
          ],
          "name": "stdout"
        }
      ]
    },
    {
      "cell_type": "code",
      "metadata": {
        "id": "_dvXagEjZbE_",
        "colab_type": "code",
        "colab": {}
      },
      "source": [
        ""
      ],
      "execution_count": 0,
      "outputs": []
    }
  ]
}